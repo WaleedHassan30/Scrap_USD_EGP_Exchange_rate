{
 "cells": [
  {
   "cell_type": "code",
   "execution_count": 1,
   "metadata": {},
   "outputs": [],
   "source": [
    "import Functions as script"
   ]
  },
  {
   "cell_type": "code",
   "execution_count": 13,
   "metadata": {},
   "outputs": [
    {
     "name": "stdout",
     "output_type": "stream",
     "text": [
      "                Convert USD to EGP at the real exchange rate                     \n",
      "ــــــــــــــــــــــــــــــــــــــــــــــــــــــــــــــــــــــــــ\n",
      "510 USD = 8010.468 LE. | Exchange rate is: 15.7068 |  last update 18 Mar 2022  at 7:54 AM\n",
      "saved data to log_exchanges.csv\n",
      "ــــــــــــــــــــــــــــــــــــــــــــــــــــــــــــــــــــــــــ\n",
      "   USD        LE     Rate Last Update Date Last Update Time      Creation Date\n",
      "0   50   785.935  15.7187     18 Mar 2022           7:45 AM  18/03/22 10:45:21\n",
      "1  200  3141.960  15.7098     18 Mar 2022           7:46 AM  18/03/22 10:46:24\n",
      "2  125  1963.350  15.7068     18 Mar 2022           7:53 AM  18/03/22 10:54:03\n",
      "3  510  8010.468  15.7068     18 Mar 2022           7:54 AM  18/03/22 10:54:26\n"
     ]
    }
   ],
   "source": [
    "script1 = script.script(name_file=\"log_exchanges.csv\")\n",
    "script1.main()"
   ]
  }
 ],
 "metadata": {
  "interpreter": {
   "hash": "c1c8520fcbb8f294e06bd2cde5b8fba48811aa721d16f143ed9e9935c6d84d3a"
  },
  "kernelspec": {
   "display_name": "Python 3.10.0 64-bit",
   "language": "python",
   "name": "python3"
  },
  "language_info": {
   "codemirror_mode": {
    "name": "ipython",
    "version": 3
   },
   "file_extension": ".py",
   "mimetype": "text/x-python",
   "name": "python",
   "nbconvert_exporter": "python",
   "pygments_lexer": "ipython3",
   "version": "3.10.0"
  },
  "orig_nbformat": 4
 },
 "nbformat": 4,
 "nbformat_minor": 2
}
